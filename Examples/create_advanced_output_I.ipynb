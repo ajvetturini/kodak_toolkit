{
 "cells": [
  {
   "cell_type": "markdown",
   "id": "89459611",
   "metadata": {},
   "source": [
    "This example adds some custom attributes to the passed in data using plotly keyword arguments. This module essentially assumes you have some familiarity with plotly and what you can do with it to get \"quality\" looking figures. \n",
    "\n",
    "Specifically, this module may help show you how you may want to script out various features you want to include / update in your plot creation methodology. \n",
    "\n",
    "I also show an example on how to create a semi-custom layout with some pre-defined bounds. If you need further customization past what this module can do, please see create_advanced_output_II"
   ]
  },
  {
   "cell_type": "code",
   "execution_count": 2,
   "id": "7930c195",
   "metadata": {},
   "outputs": [],
   "source": [
    "# import required modules\n",
    "import sys\n",
    "sys.path.append('/Users/kodak/Desktop/kodak')\n",
    "from kodak.kodak_creator import KodakPlots\n",
    "import numpy as np"
   ]
  },
  {
   "cell_type": "code",
   "execution_count": 3,
   "id": "e96ba783",
   "metadata": {},
   "outputs": [],
   "source": [
    "# Create synthetic dataset\n",
    "np.random.seed(8)\n",
    "N = 1000\n",
    "random_x = np.linspace(0, 1, N)\n",
    "random_y0 = np.random.randn(N) + 10\n",
    "random_y1 = np.random.randn(N)\n",
    "random_y2 = np.random.randn(N) - 10\n",
    "random_z = np.random.randn(N) + 15"
   ]
  },
  {
   "cell_type": "code",
   "execution_count": 4,
   "id": "5ba74be2",
   "metadata": {},
   "outputs": [],
   "source": [
    "# Create multiple scatter traces on one figure:\n",
    "kodak_plots = KodakPlots()\n",
    "\n",
    "# Now to make this \"advanced\" we can pass in arbitrary keyword arguments (kwargs) that will automatically update \n",
    "# the plotly trace. Note: I use plotly.graph_objs to give the greatest flexibility, and you may need to dive into\n",
    "# the plotly documentation (or chatGPT) to figure out how to \"format\" some of these inputs. Note: If you don't \n",
    "# enter a plot properly, an error will occur. The keyword argument MUST match what plotly would expect as input.\n",
    "\n",
    "# Here I will specify a specific marker to use with this first trace and change the legend name\n",
    "trace1 = kodak_plots.scatter_plot(x=random_x, y=random_y0, lines_markers_both='markers',\n",
    "                                  marker = dict(size=6, color='orange', symbol='x', \n",
    "                                                line=dict(width=2, color='black')),\n",
    "                                  legendname='First trace!')\n",
    "\n",
    "# For trace2 i will simply 'hide' it from the legend \n",
    "trace2 = kodak_plots.scatter_plot(x=random_x, y=random_y1, lines_markers_both='both', showlegend=False)\n",
    "\n",
    "# Lastly, I will just use the default:\n",
    "trace3 = kodak_plots.scatter_plot(x=random_x, y=random_y2, lines_markers_both='lines')\n",
    "kodak_plots.add_new_plot(traces=[trace1, trace2, trace3], window_title='My scatter trace', \n",
    "                         description='Window description')"
   ]
  },
  {
   "cell_type": "code",
   "execution_count": 5,
   "id": "dc96047b",
   "metadata": {},
   "outputs": [],
   "source": [
    "# Now for the 3D Figure, instead of changing the actual plot I will vary the layout to use for the data.\n",
    "# NOTE: Similarly, there is a create_2d_layout function that you could use as well. There are more kwargs than \n",
    "# just those shown below also, please see documentation / code (it isn't a very large code base).w\n",
    "new_3d_layout = kodak_plots.create_3d_layout(display_background=True, backgroundcolor='rgba(8, 16, 24)',\n",
    "                                             showticklabels=True, showgrid=True, gridcolor='blue')\n",
    "\n",
    "\n",
    "trace4 = kodak_plots.scatter3d_plot(x=random_x, y=random_y2, z=random_z)\n",
    "kodak_plots.add_new_plot(traces=[trace4], window_title='My 3D scatter trace', \n",
    "                         description='This is a plot of some random data', custom_layout=new_3d_layout)"
   ]
  },
  {
   "cell_type": "code",
   "execution_count": 6,
   "id": "f2ec3f09",
   "metadata": {},
   "outputs": [],
   "source": [
    "# Write out pltos file to specified directory:\n",
    "kodak_plots.write_json_output(write_directory='/Users/kodak/Desktop/kodak/Examples/test_outputs',\n",
    "                              savename_no_extension='advanced_output_I')"
   ]
  }
 ],
 "metadata": {
  "kernelspec": {
   "display_name": "Python 3 (ipykernel)",
   "language": "python",
   "name": "python3"
  },
  "language_info": {
   "codemirror_mode": {
    "name": "ipython",
    "version": 3
   },
   "file_extension": ".py",
   "mimetype": "text/x-python",
   "name": "python",
   "nbconvert_exporter": "python",
   "pygments_lexer": "ipython3",
   "version": "3.9.12"
  }
 },
 "nbformat": 4,
 "nbformat_minor": 5
}
