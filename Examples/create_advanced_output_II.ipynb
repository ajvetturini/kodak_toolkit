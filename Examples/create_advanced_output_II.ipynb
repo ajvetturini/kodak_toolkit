{
 "cells": [
  {
   "cell_type": "markdown",
   "id": "89459611",
   "metadata": {},
   "source": [
    "This final example builds off the previous examples. This is the final module and essentially presumes you are a frequent user of plotly and would like to potentially just \"plug and play\" your plot figures. \n",
    "\n",
    "The reason I setup this kodak package the way I have is such that I can script out various plotly figures, simply json-ify the figure, and visualize it in kodak such that I can easily manipulate the figure \"look\" as well as just for easy EDA / creation of \"quality enough\" figures. Research updates \"feel\" better when the data is being presented professionally, and this package (with some scripting) can create nice looking figures quickly with a user-interface and easily transferable \".plots\" (json) file."
   ]
  },
  {
   "cell_type": "code",
   "execution_count": 8,
   "id": "7930c195",
   "metadata": {},
   "outputs": [],
   "source": [
    "## NOTE TO SELF: I am actively developing kodak but want it \"public\" so I am currently just appending the path. \n",
    "## NOTE TO SELF: Hopefully this note reminds me to remove the sys.path stuff once I set up the \"git clone\" stuff\n",
    "# import required modules\n",
    "import sys\n",
    "sys.path.append('/Users/kodak/Desktop/kodak')\n",
    "import plotly.graph_objs as go\n",
    "from kodak.kodak_creator import KodakPlots\n",
    "import numpy as np\n",
    "import pandas as pd"
   ]
  },
  {
   "cell_type": "code",
   "execution_count": 12,
   "id": "5ba74be2",
   "metadata": {},
   "outputs": [],
   "source": [
    "# Create a few styled figures using plotly:\n",
    "trace1 = go.Scatter(x=[1, 2, 3, 4], y=[10, 11, 12, 13], mode='markers', marker=dict(size=[40, 60, 80, 100], \n",
    "                                                                                    color=[0, 1, 2, 3]),\n",
    "                   error_y=dict(type='data', array=[4, 7, 9, 1], visible=True))\n",
    "t = np.linspace(0, 10, 100)\n",
    "trace2a = go.Scatter(x=t, y=np.sin(t), name='sin', mode='markers', marker_color='rgba(152, 0, 0, .8)')\n",
    "trace2b = go.Scatter(x=t, y=np.cos(t), name='cos', mode='markers', marker_color='rgba(255, 182, 193, .9)')\n",
    "\n",
    "data= pd.read_csv(\"https://raw.githubusercontent.com/plotly/datasets/master/2014_usa_states.csv\")\n",
    "\n",
    "trace3 =go.Scatter(x=data['Postal'], y=data['Population'], mode='markers', marker_color=data['Population'],\n",
    "                   text=data['State'])"
   ]
  },
  {
   "cell_type": "code",
   "execution_count": 13,
   "id": "a1efd2d4",
   "metadata": {},
   "outputs": [],
   "source": [
    "# MANUALLY assign these customized plots to trace_types:\n",
    "from kodak.trace_types import PlotTrace\n",
    "kodak_plots = KodakPlots()\n",
    "window_1_traces = [PlotTrace(plotly_trace=trace1, type='scatter')]\n",
    "kodak_plots.add_new_plot(traces=window_1_traces, window_title='Varied markers', \n",
    "                         description='This plot shows markers with different colors and sizes. Coooolio!')\n",
    "\n",
    "\n",
    "window_2_traces = [PlotTrace(plotly_trace=trace2a, type='scatter'), PlotTrace(plotly_trace=trace2b, type='scatter')]\n",
    "kodak_plots.add_new_plot(traces=window_2_traces, window_title='I forgot what sin and cos look like', \n",
    "                         description='This plot shows what sin vs cos looks like!')\n",
    "\n",
    "window_3_traces = [PlotTrace(plotly_trace=trace3, type='scatter')]\n",
    "kodak_plots.add_new_plot(traces=window_3_traces, window_title='State populations of USA', \n",
    "                         description='This plot shows the population of the US states where the higher your count the \"warmer\" the color.')"
   ]
  },
  {
   "cell_type": "code",
   "execution_count": 14,
   "id": "f2ec3f09",
   "metadata": {},
   "outputs": [],
   "source": [
    "# Write out these customized plots to specified directory:\n",
    "kodak_plots.write_json_output(write_directory='/Users/kodak/Desktop/kodak/Examples/test_outputs',\n",
    "                              savename_no_extension='advanced_output_II')"
   ]
  }
 ],
 "metadata": {
  "kernelspec": {
   "display_name": "Python 3 (ipykernel)",
   "language": "python",
   "name": "python3"
  },
  "language_info": {
   "codemirror_mode": {
    "name": "ipython",
    "version": 3
   },
   "file_extension": ".py",
   "mimetype": "text/x-python",
   "name": "python",
   "nbconvert_exporter": "python",
   "pygments_lexer": "ipython3",
   "version": "3.9.12"
  }
 },
 "nbformat": 4,
 "nbformat_minor": 5
}
