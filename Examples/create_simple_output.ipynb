{
 "cells": [
  {
   "cell_type": "code",
   "execution_count": 6,
   "id": "7930c195",
   "metadata": {},
   "outputs": [],
   "source": [
    "# import required modules\n",
    "import sys\n",
    "sys.path.append('/Users/kodak/Desktop/kodak')\n",
    "from kodak.kodak_creator import KodakPlots\n",
    "import numpy as np"
   ]
  },
  {
   "cell_type": "code",
   "execution_count": 7,
   "id": "e96ba783",
   "metadata": {},
   "outputs": [],
   "source": [
    "# Create synthetic dataset\n",
    "np.random.seed(8)\n",
    "N = 1000\n",
    "random_x = np.linspace(0, 1, N)\n",
    "random_y0 = np.random.randn(N) + 10\n",
    "random_y1 = np.random.randn(N)\n",
    "random_y2 = np.random.randn(N) - 10\n",
    "random_z = np.random.randn(N) + 15"
   ]
  },
  {
   "cell_type": "code",
   "execution_count": 8,
   "id": "5ba74be2",
   "metadata": {},
   "outputs": [],
   "source": [
    "# Create multiple scatter traces on one figure:\n",
    "kodak_plots = KodakPlots()\n",
    "trace1 = kodak_plots.scatter_plot(x=random_x, y=random_y0, lines_markers_both='markers')\n",
    "trace2 = kodak_plots.scatter_plot(x=random_x, y=random_y1, lines_markers_both='both')\n",
    "trace3 = kodak_plots.scatter_plot(x=random_x, y=random_y2, lines_markers_both='lines')\n",
    "kodak_plots.add_new_plot(traces=[trace1, trace2, trace3], window_title='My scatter trace', description='Window description')"
   ]
  },
  {
   "cell_type": "code",
   "execution_count": 9,
   "id": "dc96047b",
   "metadata": {},
   "outputs": [],
   "source": [
    "# Add a separate 3D scatter trace to another figure\n",
    "trace4 = kodak_plots.scatter3d_plot(x=random_x, y=random_y2, z=random_z)\n",
    "kodak_plots.add_new_plot(traces=[trace4], window_title='My 3D scatter trace', description='This is a plot of some random data')"
   ]
  },
  {
   "cell_type": "code",
   "execution_count": 10,
   "id": "f2ec3f09",
   "metadata": {},
   "outputs": [],
   "source": [
    "# Write out pltos file to specified directory:\n",
    "kodak_plots.write_json_output(write_directory='/Users/kodak/Desktop/kodak/Examples/test_outputs',\n",
    "                              savename_no_extension='simple_output')"
   ]
  }
 ],
 "metadata": {
  "kernelspec": {
   "display_name": "Python 3 (ipykernel)",
   "language": "python",
   "name": "python3"
  },
  "language_info": {
   "codemirror_mode": {
    "name": "ipython",
    "version": 3
   },
   "file_extension": ".py",
   "mimetype": "text/x-python",
   "name": "python",
   "nbconvert_exporter": "python",
   "pygments_lexer": "ipython3",
   "version": "3.9.12"
  }
 },
 "nbformat": 4,
 "nbformat_minor": 5
}
